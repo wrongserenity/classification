{
  "nbformat": 4,
  "nbformat_minor": 0,
  "metadata": {
    "colab": {
      "name": "Task_1.ipynb",
      "provenance": [],
      "collapsed_sections": []
    },
    "kernelspec": {
      "display_name": "Python 3",
      "language": "python",
      "name": "python3"
    },
    "language_info": {
      "codemirror_mode": {
        "name": "ipython",
        "version": 3
      },
      "file_extension": ".py",
      "mimetype": "text/x-python",
      "name": "python",
      "nbconvert_exporter": "python",
      "pygments_lexer": "ipython3",
      "version": "3.6.9"
    }
  },
  "cells": [
    {
      "cell_type": "markdown",
      "metadata": {
        "id": "LRrijfWIUuPh"
      },
      "source": [
        "# Задание 1\n",
        "\n",
        "[Свертка списка](https://ru.wikipedia.org/wiki/%D0%A1%D0%B2%D1%91%D1%80%D1%82%D0%BA%D0%B0_%D1%81%D0%BF%D0%B8%D1%81%D0%BA%D0%B0) -  это обобщенная операция над списком, c помощью которой можно преобразовать список в единое значение. Например, рассмотрим реализации свертки слева и свертки справа (левоассоциативную свертку и правоассоциативную свертку):"
      ]
    },
    {
      "cell_type": "code",
      "metadata": {
        "collapsed": true,
        "id": "1rCM0fIBUuPj"
      },
      "source": [
        "def foldl(f, x0, lst):\n",
        "    if not lst:\n",
        "        return x0\n",
        "    return foldl(f, f(x0, lst[0]), lst[1:])\n",
        "\n",
        "def foldr(f, x0, lst):\n",
        "    if not lst:\n",
        "        return x0\n",
        "    return f(lst[0], foldr(f, x0, lst[1:]))"
      ],
      "execution_count": 8,
      "outputs": []
    },
    {
      "cell_type": "code",
      "metadata": {
        "id": "INITuQXLUuPj",
        "colab": {
          "base_uri": "https://localhost:8080/"
        },
        "outputId": "498322c1-0a43-479b-a4a6-54d4db8a918a"
      },
      "source": [
        "#сумма\n",
        "foldl(lambda x, y: x + y, 0, [1, 2, 3])"
      ],
      "execution_count": null,
      "outputs": [
        {
          "output_type": "execute_result",
          "data": {
            "text/plain": [
              "6"
            ]
          },
          "metadata": {
            "tags": []
          },
          "execution_count": 35
        }
      ]
    },
    {
      "cell_type": "code",
      "metadata": {
        "id": "zBHplnjsUuPk",
        "colab": {
          "base_uri": "https://localhost:8080/",
          "height": 35
        },
        "outputId": "967628c2-5aba-4eef-8786-70f998bcebf2"
      },
      "source": [
        "#конкатенация\n",
        "foldl(lambda x, y: '{}{}'.format(x, y), '', [1, 2, 3])"
      ],
      "execution_count": null,
      "outputs": [
        {
          "output_type": "execute_result",
          "data": {
            "application/vnd.google.colaboratory.intrinsic+json": {
              "type": "string"
            },
            "text/plain": [
              "'123'"
            ]
          },
          "metadata": {
            "tags": []
          },
          "execution_count": 36
        }
      ]
    },
    {
      "cell_type": "code",
      "metadata": {
        "id": "Ki_nmaXgUuPk",
        "colab": {
          "base_uri": "https://localhost:8080/"
        },
        "outputId": "60135962-5873-456a-ceea-7ac83776c465"
      },
      "source": [
        "f = lambda x, y: x / y\n",
        "foldl2(f, 1, [1, 2, 3]), \\\n",
        "foldr2(f, 1, [1, 2, 3])"
      ],
      "execution_count": null,
      "outputs": [
        {
          "output_type": "execute_result",
          "data": {
            "text/plain": [
              "(0.16666666666666666, 1.5)"
            ]
          },
          "metadata": {
            "tags": []
          },
          "execution_count": 51
        }
      ]
    },
    {
      "cell_type": "markdown",
      "metadata": {
        "id": "XI2n6oQyUuPl"
      },
      "source": [
        "Задача: реализовать foldl через foldr и наоборот. Вместо многоточий нужно вставить выражения, которые бы привели к нужному результату. Модифицировать сам список нельзя. "
      ]
    },
    {
      "cell_type": "code",
      "metadata": {
        "collapsed": true,
        "id": "qRRY_KmJUuPl"
      },
      "source": [
        "def foldl2(f, x0, lst):\n",
        "    return foldr(lambda x,y: lambda t: y(f(t,x)), lambda x: x, lst)(x0)"
      ],
      "execution_count": null,
      "outputs": []
    },
    {
      "cell_type": "code",
      "metadata": {
        "collapsed": true,
        "id": "i7zvkyGOUuPl"
      },
      "source": [
        "def foldr2(f, x0, lst):\n",
        "    return foldl(lambda y,x: lambda t: y(f(x,t)), lambda x: x, lst)(x0)"
      ],
      "execution_count": null,
      "outputs": []
    },
    {
      "cell_type": "markdown",
      "metadata": {
        "id": "zL3qPT_8UuPm"
      },
      "source": [
        "# Задание 2\n",
        "\n",
        "нужно написать функцию, которая принимает две строки и проверяет, входит ли хотя бы одна перестановка второй строки в первую. Например:\n",
        "\n",
        "> a = 'abcrotm'\n",
        "> \n",
        "> b = 'tro'\n",
        "\n",
        "функция def check_inv(a, b) вернет True, так как 'rot' содержится в 'abcrotm'. Нужно подумать как можно более оптимальный алгоритм и оценить его сложность. "
      ]
    },
    {
      "cell_type": "code",
      "metadata": {
        "collapsed": true,
        "id": "tfJy8KsPUuPm",
        "colab": {
          "base_uri": "https://localhost:8080/"
        },
        "outputId": "f66a184f-5d64-4d2c-8928-d561bf6ed4d1"
      },
      "source": [
        "from collections import Counter\n",
        "\n",
        "def check_inv(a, b):\n",
        "    char_dict = Counter(b)\n",
        "    w = len(b)\n",
        "\n",
        "    for i in range(w):\n",
        "        if a[i] in char_dict:\n",
        "            char_dict[a[i]] -= 1\n",
        "    \n",
        "    if not foldl(lambda x, y: abs(x) + abs(y), 0, list(char_dict.values())):\n",
        "        return True\n",
        "      \n",
        "    for i in range(w, len(a)):\n",
        "        if a[i] in char_dict:\n",
        "            char_dict[a[i]] -= 1\n",
        "        if a[i-w] in char_dict:\n",
        "            char_dict[a[i]] += 1\n",
        "        if not foldl(lambda x, y: abs(x) + abs(y), 0, list(char_dict.values())):\n",
        "            return True\n",
        "    return False\n",
        "  \n",
        "a = 'ddde'\n",
        "b = 'aae'\n",
        "print(check_inv(a, b))\n",
        "\n",
        "a = 'abcrotm'\n",
        "b = 'tro'\n",
        "print(check_inv(a, b))\n",
        "\n",
        "a = 'aab'\n",
        "b = 'bba'\n",
        "print(check_inv(a,b))"
      ],
      "execution_count": 15,
      "outputs": [
        {
          "output_type": "stream",
          "text": [
            "False\n",
            "True\n",
            "False\n"
          ],
          "name": "stdout"
        }
      ]
    },
    {
      "cell_type": "markdown",
      "metadata": {
        "id": "7GXGoHeiUuPm"
      },
      "source": [
        "# Задание 3\n",
        "\n",
        "Реализовать бинарное дерево (класс Tree), в нём методы __repr__, __str__, __iter__ (итерация только по листьям)."
      ]
    },
    {
      "cell_type": "code",
      "metadata": {
        "colab": {
          "base_uri": "https://localhost:8080/"
        },
        "id": "1dIt1ThEUuPn",
        "outputId": "e24e3dc6-b105-488d-e11a-b83007ce1009"
      },
      "source": [
        "class Tree:\n",
        "    def __init__(self, value=None, left=None, right=None):\n",
        "        self.left = left\n",
        "        self.right = right\n",
        "        self.value = value\n",
        "        \n",
        "    def __iter__(self):\n",
        "        if not self.left and not self.right:\n",
        "            yield self.value\n",
        "        if self.left:\n",
        "            yield from self.left\n",
        "        if self.right:\n",
        "            yield from self.right\n",
        "    \n",
        "    def __str__(self):\n",
        "        return f\"{self.value}({self.left},{self.right})\".replace('None', '-').replace('(-,-)', '')\n",
        "    \n",
        "    def __repr__(self):\n",
        "        return '{}({}, {}, {})'.format(self.__class__.__name__, \n",
        "                                       repr(self.value),\n",
        "                                       repr(self.left) if self.left else '-',\n",
        "                                       repr(self.right) if self.right else '-').replace(', -', '') \n",
        "    \n",
        "tree = Tree(0, Tree(1, Tree(3), Tree(4)),                             \n",
        "               Tree(2))\n",
        "\n",
        "list(tree) == [3, 4, 2]"
      ],
      "execution_count": null,
      "outputs": [
        {
          "output_type": "execute_result",
          "data": {
            "text/plain": [
              "True"
            ]
          },
          "metadata": {
            "tags": []
          },
          "execution_count": 41
        }
      ]
    },
    {
      "cell_type": "markdown",
      "metadata": {
        "id": "O4S6uc5cUuPn"
      },
      "source": [
        "# Задание 4\n",
        "\n",
        "Реализовать простейший калькулятор математических выражений:\n",
        "- только целые числа\n",
        "- **+**, **\\-**, **\\***, **\\**\n",
        "- скобки\n",
        "\n",
        "**Можно использовать регулярные выражения**"
      ]
    },
    {
      "cell_type": "code",
      "metadata": {
        "colab": {
          "base_uri": "https://localhost:8080/"
        },
        "id": "ss9Lz_K8avZC",
        "outputId": "0a349c01-b4e2-41fd-a440-82c1742327d2"
      },
      "source": [
        "def calc(expression):\r\n",
        "    return calc_in_brackets(list(expression))    \r\n",
        "\r\n",
        "def calc_in_brackets(exp_list):\r\n",
        "    value = 0\r\n",
        "    stack = []\r\n",
        "    sign = '+'\r\n",
        "    while exp_list and sign != ')':\r\n",
        "        item = exp_list.pop(0)\r\n",
        "        if item in '1234567890':\r\n",
        "            value *= 10\r\n",
        "            value += float(item)\r\n",
        "        if item == '(':\r\n",
        "            value = calc_in_brackets(exp_list)\r\n",
        "\r\n",
        "        if not exp_list or item in '+-*/)':\r\n",
        "            if sign == '+':\r\n",
        "                stack.append(value)\r\n",
        "            elif sign == '-':\r\n",
        "                stack.append(-value)\r\n",
        "            elif sign == '*':\r\n",
        "                stack[-1] = stack[-1] * value\r\n",
        "            elif sign == '/':\r\n",
        "                stack[-1] = stack[-1] / value \r\n",
        "            sign = item\r\n",
        "            value = 0\r\n",
        "    return sum(stack)\r\n",
        "\r\n",
        "\r\n",
        "calc('2 * (15 - 3 * 4) - 2') == 4"
      ],
      "execution_count": null,
      "outputs": [
        {
          "output_type": "execute_result",
          "data": {
            "text/plain": [
              "True"
            ]
          },
          "metadata": {
            "tags": []
          },
          "execution_count": 42
        }
      ]
    }
  ]
}