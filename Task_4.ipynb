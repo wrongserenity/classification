{
  "nbformat": 4,
  "nbformat_minor": 0,
  "metadata": {
    "kernelspec": {
      "display_name": "Python 3",
      "language": "python",
      "name": "python3"
    },
    "language_info": {
      "codemirror_mode": {
        "name": "ipython",
        "version": 3
      },
      "file_extension": ".py",
      "mimetype": "text/x-python",
      "name": "python",
      "nbconvert_exporter": "python",
      "pygments_lexer": "ipython3",
      "version": "3.6.9"
    },
    "colab": {
      "name": "Task_4.ipynb",
      "provenance": []
    }
  },
  "cells": [
    {
      "cell_type": "markdown",
      "metadata": {
        "id": "4KFKBQfJ_7QS"
      },
      "source": [
        "# Линейная регрессия"
      ]
    },
    {
      "cell_type": "code",
      "metadata": {
        "id": "7y0ySNZA_7QZ"
      },
      "source": [
        "import numpy as np\n",
        "import matplotlib.pyplot as plt\n",
        "import pandas as pd\n",
        "from scipy.optimize import minimize\n",
        "\n",
        "df = pd.read_csv('../content/sample_data/lin_reg.txt', header=None)\n",
        "df.rename(\n",
        "    columns={\n",
        "        0: 'x1',\n",
        "        1: 'x2',\n",
        "        2: 'x3',\n",
        "        3: 'x4',\n",
        "        4: 'y',\n",
        "    }, \n",
        "    inplace=True\n",
        ")\n",
        "\n",
        "X = df[['x1', 'x2', 'x3', 'x4']].values\n",
        "Y = df[['y']].values"
      ],
      "execution_count": 56,
      "outputs": []
    },
    {
      "cell_type": "markdown",
      "metadata": {
        "id": "OgNsfvrS_7Qa"
      },
      "source": [
        "При выполнении заданий **нельзя** пользоваться `scikit-learn` и т.п., только `NumPy`/`JAX`/`TF`/`PyTorch` и `matplotlib`/`seaborn`/`plotly`/etc.\n",
        "\n",
        "1. Нарисуйте график среднеквадратичной ошибки в зависимости от параметра регуляризации $\\alpha$, используя полные данные для обучения и для тестирования. \n",
        "2. Подготовьте исходные данные для 5 fold CV.\n",
        "3. С помощью CV найдите оптимальное значение $\\alpha$ на какой-нибудь сетке значений.\n",
        "4. Постройте валидационную кривую. \n",
        "5. Постройте кривую обучения."
      ]
    },
    {
      "cell_type": "code",
      "metadata": {
        "id": "NsHGp2ip_7Qb"
      },
      "source": [
        "def forward_pass(w, X):\n",
        "    b = w[0] * np.ones((X.shape[0], 1))\n",
        "    w = w[1:]\n",
        "    assert w.shape[0] == X.shape[1]\n",
        "    assert b.shape[0] == X.shape[0]\n",
        "    return  (X @ w).reshape(-1, 1) + b.reshape(-1, 1)\n",
        "\n",
        "def func(w, X, Y, a=0):\n",
        "    return np.sum(np.power(forward_pass(w, X) - Y, 2)) / len(Y) + a * (np.sum(np.power(w, 2)))\n",
        "\n",
        "def train_test_split(X, train_size=0.8):\n",
        "    n = X.shape[0]\n",
        "    pivot = int(n * train_size)\n",
        "    return X[:pivot], X[pivot:]\n",
        "\n",
        "def train_test_split_df(df):\n",
        "    train, test = train_test_split(df)\n",
        "    X_train = train[['x1', 'x2', 'x3', 'x4']].values\n",
        "    X_test = test[['x1', 'x2', 'x3', 'x4']].values\n",
        "    Y_train = train[['y']].values\n",
        "    Y_test = test[['y']].values\n",
        "    return X_train, X_test, Y_train, Y_test\n",
        "\n",
        "def fit_linear(X, Y, a=0, plot=False):\n",
        "    history = {'w': [], 'error': []}\n",
        "\n",
        "    def callback(w):\n",
        "        history['w'].append(w)\n",
        "        history['error'].append(J(w, X, Y))\n",
        "    \n",
        "    optimal_w = minimize(J, x0=np.zeros((X.shape[1] + 1, 1)), args=(X, Y, a), callback=callback, method='BFGS').x\n",
        "\n",
        "    if plot:\n",
        "        plot_learning_curve(history)\n",
        "    return optimal_w, history"
      ],
      "execution_count": 57,
      "outputs": []
    },
    {
      "cell_type": "code",
      "metadata": {
        "colab": {
          "base_uri": "https://localhost:8080/",
          "height": 282
        },
        "id": "aV2bcaiQB1So",
        "outputId": "056a4d9f-7006-457a-f9b2-92aec478c4df"
      },
      "source": [
        "## График зависимости среднеквадратичной ошибки\n",
        "\n",
        "errors = []\n",
        "for a in np.linspace(0, 1, 100):\n",
        "    w_optimal, _ = fit_linear(X, Y, a=a)\n",
        "    error = J(w_optimal, X, Y, a=a)\n",
        "    errors.append(error)\n",
        "    \n",
        "plt.plot(errors)"
      ],
      "execution_count": 65,
      "outputs": [
        {
          "output_type": "execute_result",
          "data": {
            "text/plain": [
              "[<matplotlib.lines.Line2D at 0x7fc6330f5810>]"
            ]
          },
          "metadata": {},
          "execution_count": 65
        },
        {
          "output_type": "display_data",
          "data": {
            "image/png": "[encoded data removed]",
            "text/plain": [
              "<Figure size 432x288 with 1 Axes>"
            ]
          },
          "metadata": {
            "needs_background": "light"
          }
        }
      ]
    },
    {
      "cell_type": "code",
      "metadata": {
        "id": "cNtMd59UFHpF"
      },
      "source": [
        "## Кросс-валидация\n",
        "\n",
        "def cross_validation(df, cv=5, a=0):\n",
        "    shuffled_df = df.sample(frac=1)\n",
        "    n = len(shuffled_df)\n",
        "    step = n // cv\n",
        "    \n",
        "    record = {\n",
        "        'train_error': [],\n",
        "        'test_error': []\n",
        "    }\n",
        "    for i in range(0, n, step):\n",
        "        fold = shuffled_df[i:i + step]\n",
        "        X_train, X_test, Y_train, Y_test = train_test_split_df(fold)\n",
        "        w_optimal, _ = fit_linear(X_train, Y_train, a=a)\n",
        "        record['train_error'].append(func(w_optimal, X_train, Y_train))\n",
        "        record['test_error'].append(func(w_optimal, X_test, Y_test))\n",
        "    return record\n",
        "\n",
        "def mean_cv_record(record):\n",
        "    return np.array(record['test_error']).mean()"
      ],
      "execution_count": 59,
      "outputs": []
    },
    {
      "cell_type": "code",
      "metadata": {
        "colab": {
          "base_uri": "https://localhost:8080/"
        },
        "id": "I0g31-CEFVzL",
        "outputId": "effcde1d-c9a5-416e-94ae-db5fcbf2ff15"
      },
      "source": [
        "## Оптимальное значение α\n",
        "\n",
        "mean_errors = {}\n",
        "for a_temp in np.linspace(0, 1, 90):\n",
        "    record_cv = cross_validation(df, a=a_temp)  \n",
        "    mean_errors[a_temp] = mean_cv_record(record_cv)\n",
        "min_val = sorted(mean_errors.items(), key=lambda x: x[1])[0]\n",
        "optimal_a = min_val[0]\n",
        "print('оптимальное alpha', min_val[0], 'при MSE', min_val[1])"
      ],
      "execution_count": 67,
      "outputs": [
        {
          "output_type": "stream",
          "name": "stdout",
          "text": [
            "оптимальное alpha 0.898876404494382 при MSE 81.8449360651244\n"
          ]
        }
      ]
    },
    {
      "cell_type": "code",
      "metadata": {
        "colab": {
          "base_uri": "https://localhost:8080/",
          "height": 281
        },
        "id": "gQZYZq0IG5Ia",
        "outputId": "bb0465b1-e5b3-4d5b-baff-55af55a9fa2a"
      },
      "source": [
        "## Кривая валидации и обучения\n",
        "\n",
        "def plot_learning_curve(record, X_test, Y_test, optimal_a):\n",
        "    val_score = []\n",
        "    for w in record['w']:\n",
        "        val_score.append(func(w, X_test, Y_test, a=optimal_a))\n",
        "    \n",
        "    plt.figure()\n",
        "    \n",
        "    plt.plot(record['error'])\n",
        "    plt.plot(val_score)\n",
        "    \n",
        "    plt.legend(['обучение', 'валидация'])\n",
        "    plt.title('Кривая')\n",
        "\n",
        "X_train, X_test, Y_train, Y_test = train_test_split_df(df)\n",
        "w, history = fit_linear(X_train, Y_train, a=optimal_a)\n",
        "plot_learning_curve(history, X_test, Y_test, optimal_a)"
      ],
      "execution_count": 68,
      "outputs": [
        {
          "output_type": "display_data",
          "data": {
            "image/png": "[encoded data removed]",
            "text/plain": [
              "<Figure size 432x288 with 1 Axes>"
            ]
          },
          "metadata": {
            "needs_background": "light"
          }
        }
      ]
    }
  ]
}